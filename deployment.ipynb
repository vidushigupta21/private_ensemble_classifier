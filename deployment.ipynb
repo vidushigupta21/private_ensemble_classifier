{
 "cells": [
  {
   "cell_type": "markdown",
   "id": "079ea5d3",
   "metadata": {},
   "source": [
    "# code for model depolyment"
   ]
  },
  {
   "cell_type": "code",
   "execution_count": 1,
   "id": "8dc75bd9",
   "metadata": {},
   "outputs": [
    {
     "name": "stdout",
     "output_type": "stream",
     "text": [
      "Train: (21504, 24), Val: (7168, 24), Test: (12288, 24)\n",
      "Blending Accuracy: 100.000\n",
      "[[2429    0    0    0    0]\n",
      " [   0 2453    0    0    0]\n",
      " [   0    0 2441    0    0]\n",
      " [   0    0    0 2521    0]\n",
      " [   0    0    0    0 2444]]\n"
     ]
    },
    {
     "data": {
      "image/png": "[encoded data removed]",
      "text/plain": [
       "<Figure size 432x288 with 2 Axes>"
      ]
     },
     "metadata": {
      "needs_background": "light"
     },
     "output_type": "display_data"
    }
   ],
   "source": [
    "import pandas as pd\n",
    "import numpy as np\n",
    "import seaborn as sns\n",
    "import matplotlib.pyplot as plt\n",
    "from sklearn.utils import shuffle\n",
    "# blending ensemble for classification using hard voting\n",
    "from numpy import hstack\n",
    "from sklearn.datasets import make_classification\n",
    "from sklearn.model_selection import train_test_split\n",
    "from sklearn.metrics import accuracy_score\n",
    "from sklearn.metrics import roc_auc_score\n",
    "from sklearn.linear_model import LogisticRegression\n",
    "from sklearn.neighbors import KNeighborsClassifier\n",
    "from sklearn.tree import DecisionTreeClassifier\n",
    "from sklearn.svm import SVC\n",
    "from sklearn.naive_bayes import GaussianNB\n",
    "from sklearn.gaussian_process import GaussianProcessClassifier\n",
    "from xgboost import XGBClassifier\n",
    " \n",
    "# get the dataset\n",
    "def get_dataset():\n",
    "\t#X, y = make_classification(n_samples=10000, n_features=20, n_informative=15, n_redundant=5, random_state=7)\n",
    "\tdata_set= pd.read_csv(r'C:\\Users\\user\\Downloads\\convertcsv.csv', sep=';', skiprows=1)\n",
    "\t#Extracting Independent and dependent Variable  \n",
    "\t#print(data_set.shape)\n",
    "\tX= data_set.iloc[:, :-1].values  \n",
    "\ty= data_set.iloc[:, 24].values\n",
    "\tX, y=shuffle(X,y)  \n",
    "\treturn X, y\n",
    "\n",
    "# get a list of base models\n",
    "def get_models():\n",
    "\tmodels = list()\n",
    "\tmodels.append(('lr', LogisticRegression()))\n",
    "\tmodels.append(('knn', KNeighborsClassifier()))\n",
    "\tmodels.append(('cart', DecisionTreeClassifier()))\n",
    "\tmodels.append(('svm', SVC()))\n",
    "\tmodels.append(('bayes', GaussianNB()))\n",
    "\treturn models\n",
    " \n",
    "# fit the blending ensemble\n",
    "def fit_ensemble(models, X_train, X_val, y_train, y_val):\n",
    "\t# fit all models on the training set and predict on hold out set\n",
    "\tmeta_X = list()\n",
    "\tfor name, model in models:\n",
    "\t\t# fit in training set\n",
    "\t\tmodel.fit(X_train, y_train)\n",
    "\t\t# predict on hold out set\n",
    "\t\tyhat = model.predict(X_val)\n",
    "\t\t# reshape predictions into a matrix with one column\n",
    "\t\tyhat = yhat.reshape(len(yhat), 1)\n",
    "\t\t#print(yhat)\n",
    "\t\t#print(len(yhat))\n",
    "\t\t#exponential noise\n",
    "\t\tmn=yhat.mean()\n",
    "\t\tv=yhat.std()\n",
    "\t\ts=1/0.01 #epsilon=0.001\n",
    "\t\tn=np.random.normal(mn,v,(len(yhat), 1))\n",
    "\t\t#print(n)\n",
    "\t\tyhat = yhat.reshape(len(yhat), 1) + n\n",
    "\t\t#yhat = yhat.reshape(len(yhat), 1)\n",
    "\t\t#print(yhat)\n",
    "\t\t# store predictions as input for blending\n",
    "\t\tmeta_X.append(yhat)\n",
    "\t# create 2d array from predictions, each set is an input feature\n",
    "\tmeta_X = hstack(meta_X)\n",
    "\t# define blending model\n",
    "\tblender = LogisticRegression()\n",
    "\t# fit on predictions from base models\n",
    "\tblender.fit(meta_X, y_val)\n",
    "\treturn blender\n",
    " \n",
    "# make a prediction with the blending ensemble\n",
    "def predict_ensemble(models, blender, X_test):\n",
    "\t# make predictions with base models\n",
    "\tmeta_X = list()\n",
    "\tfor name, model in models:\n",
    "\t\t# predict with base model\n",
    "\t\tyhat = model.predict(X_test)\n",
    "\t\t# reshape predictions into a matrix with one column\n",
    "\t\tyhat = yhat.reshape(len(yhat), 1)\n",
    "\t\t# store prediction\n",
    "\t\tmeta_X.append(yhat)\n",
    "\t# create 2d array from predictions, each set is an input feature\n",
    "\tmeta_X = hstack(meta_X)\n",
    "\t# predict\n",
    "\treturn blender.predict(meta_X)\n",
    " \n",
    "# define dataset\n",
    "X, y = get_dataset()\n",
    "# split dataset into train and test sets\n",
    "X_train_full, X_test, y_train_full, y_test = train_test_split(X, y, test_size=0.30, random_state=1)\n",
    "# split training set into train and validation sets\n",
    "X_train, X_val, y_train, y_val = train_test_split(X_train_full, y_train_full, test_size=0.25, random_state=1)\n",
    "# summarize data split\n",
    "print('Train: %s, Val: %s, Test: %s' % (X_train.shape, X_val.shape, X_test.shape))\n",
    "# create the base models\n",
    "models = get_models()\n",
    "# train the blending ensemble\n",
    "blender = fit_ensemble(models, X_train, X_val, y_train, y_val)\n",
    "# make predictions on test set\n",
    "yhat = predict_ensemble(models, blender, X_test)\n",
    "# evaluate predictions\n",
    "score = accuracy_score(y_test, yhat)\n",
    "print('Blending Accuracy: %.3f' % (score*100))\n",
    "#print(roc_auc_score(y_test, yhat))\n",
    "#Creating the Confusion matrix  \n",
    "from sklearn.metrics import confusion_matrix  \n",
    "cm= confusion_matrix(y_test, yhat) \n",
    "print(cm)\n",
    "# visualize Confusion Matrix\n",
    "fig = sns.heatmap(cm, annot=True, fmt=\"d\")\n",
    "bottom, top = fig.get_ylim()\n",
    "fig.set_ylim(bottom + 0.5, top - 0.5)\n",
    "plt.title('Confusion Matrix')\n",
    "plt.xlabel('Predicted')\n",
    "plt.ylabel('Actual')\n",
    "plt.show()"
   ]
  },
  {
   "cell_type": "markdown",
   "id": "575b9ce9",
   "metadata": {},
   "source": [
    "# pickle file"
   ]
  },
  {
   "cell_type": "code",
   "execution_count": 6,
   "id": "c9c380a2",
   "metadata": {},
   "outputs": [],
   "source": [
    "import pickle\n",
    "pickle.dump(blender, open('mheal\n",
    "                          h.pkl', 'wb'))\n",
    "# mhealth.to_pickle(\"C:\\Users\\user\\mhealth.pkl\")\n",
    "# mhealth = pd.read_pickle(\"C:\\Users\\user\\mhealth.pkl\")"
   ]
  },
  {
   "cell_type": "markdown",
   "id": "267cdba6",
   "metadata": {},
   "source": [
    "# flask"
   ]
  },
  {
   "cell_type": "code",
   "execution_count": 7,
   "id": "6ed12448",
   "metadata": {},
   "outputs": [
    {
     "name": "stdout",
     "output_type": "stream",
     "text": [
      " * Serving Flask app \"__main__\" (lazy loading)\n",
      " * Environment: production\n",
      "   WARNING: This is a development server. Do not use it in a production deployment.\n",
      "   Use a production WSGI server instead.\n",
      " * Debug mode: on\n"
     ]
    },
    {
     "name": "stderr",
     "output_type": "stream",
     "text": [
      " * Restarting with windowsapi reloader\n"
     ]
    },
    {
     "ename": "SystemExit",
     "evalue": "1",
     "output_type": "error",
     "traceback": [
      "An exception has occurred, use %tb to see the full traceback.\n",
      "\u001b[1;31mSystemExit\u001b[0m\u001b[1;31m:\u001b[0m 1\n"
     ]
    },
    {
     "name": "stderr",
     "output_type": "stream",
     "text": [
      "C:\\Users\\user\\anaconda3\\lib\\site-packages\\IPython\\core\\interactiveshell.py:3445: UserWarning: To exit: use 'exit', 'quit', or Ctrl-D.\n",
      "  warn(\"To exit: use 'exit', 'quit', or Ctrl-D.\", stacklevel=1)\n"
     ]
    }
   ],
   "source": [
    "from flask import Flask, render_template, request\n",
    "import pickle\n",
    "import numpy as np\n",
    "\n",
    "model = pickle.load(open('mhealth.pkl', 'rb'))\n",
    "\n",
    "app = Flask(__name__)\n",
    "\n",
    "\n",
    "\n",
    "@app.route('/')\n",
    "def man():\n",
    "    return render_template('home.html')\n",
    "\n",
    "\n",
    "@app.route('/predict', methods=['POST'])\n",
    "def home():\n",
    "    data1 = request.form['a']\n",
    "    data2 = request.form['b']\n",
    "    data3 = request.form['c']\n",
    "    data4 = request.form['d']\n",
    "    arr = np.array([[data1, data2, data3, data4]])\n",
    "    pred = model.predict(arr)\n",
    "    return render_template('after.html', data=pred)\n",
    "\n",
    "\n",
    "if __name__ == \"__main__\":\n",
    "    app.run(debug=True)\n"
   ]
  }
 ],
 "metadata": {
  "kernelspec": {
   "display_name": "Python 3",
   "language": "python",
   "name": "python3"
  },
  "language_info": {
   "codemirror_mode": {
    "name": "ipython",
    "version": 3
   },
   "file_extension": ".py",
   "mimetype": "text/x-python",
   "name": "python",
   "nbconvert_exporter": "python",
   "pygments_lexer": "ipython3",
   "version": "3.8.8"
  }
 },
 "nbformat": 4,
 "nbformat_minor": 5
}
